{
  "nbformat": 4,
  "nbformat_minor": 0,
  "metadata": {
    "colab": {
      "provenance": [],
      "authorship_tag": "ABX9TyO9EVZsSh+jWGeeZ3zzvUpB",
      "include_colab_link": true
    },
    "kernelspec": {
      "name": "python3",
      "display_name": "Python 3"
    },
    "language_info": {
      "name": "python"
    }
  },
  "cells": [
    {
      "cell_type": "markdown",
      "metadata": {
        "id": "view-in-github",
        "colab_type": "text"
      },
      "source": [
        "<a href=\"https://colab.research.google.com/github/AlexaMarieDonato/58009-DSAA/blob/main/Practical_Lab_Exam.ipynb\" target=\"_parent\"><img src=\"https://colab.research.google.com/assets/colab-badge.svg\" alt=\"Open In Colab\"/></a>"
      ]
    },
    {
      "cell_type": "code",
      "execution_count": 100,
      "metadata": {
        "colab": {
          "base_uri": "https://localhost:8080/"
        },
        "id": "y9aCXTa2WuJY",
        "outputId": "2679b6b5-f396-4291-b66b-bd81525dcb90"
      },
      "outputs": [
        {
          "output_type": "stream",
          "name": "stdout",
          "text": [
            "The test scores are as follows:  [26, 49, 98, 87, 62, 75]\n",
            "The odd numbers in these test scores are:  [49, 87, 75]\n",
            "The sum of the odd test scores is:  211\n"
          ]
        }
      ],
      "source": [
        "scores = [26, 49, 98, 87, 62, 75]\n",
        "print(\"The test scores are as follows: \", scores)\n",
        "\n",
        "def odd(x):\n",
        "  return x % 2 == 1\n",
        "\n",
        "result = filter(odd, scores)\n",
        "print(\"The odd numbers in these test scores are: \", list(result))\n",
        "total = 49 + 87 + 75\n",
        "print(\"The sum of the odd test scores is: \", total)"
      ]
    }
  ]
}