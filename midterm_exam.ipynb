{
  "nbformat": 4,
  "nbformat_minor": 0,
  "metadata": {
    "colab": {
      "provenance": [],
      "authorship_tag": "ABX9TyNt2d8l9nypdz/KY3G3Vliz",
      "include_colab_link": true
    },
    "kernelspec": {
      "name": "python3",
      "display_name": "Python 3"
    },
    "language_info": {
      "name": "python"
    }
  },
  "cells": [
    {
      "cell_type": "markdown",
      "metadata": {
        "id": "view-in-github",
        "colab_type": "text"
      },
      "source": [
        "<a href=\"https://colab.research.google.com/github/AlexaMarieDonato/58009-DSAA/blob/main/midterm_exam.ipynb\" target=\"_parent\"><img src=\"https://colab.research.google.com/assets/colab-badge.svg\" alt=\"Open In Colab\"/></a>"
      ]
    },
    {
      "cell_type": "code",
      "execution_count": 3,
      "metadata": {
        "colab": {
          "base_uri": "https://localhost:8080/"
        },
        "id": "fSHapTH6Bqls",
        "outputId": "df02d82b-0f99-44d9-8a21-65f06ed75a7c"
      },
      "outputs": [
        {
          "output_type": "stream",
          "name": "stdout",
          "text": [
            "The edges are:  [{'A', 'B'}, {'E', 'B'}, {'F', 'B'}, {'C', 'B'}, {'C', 'D'}, {'E', 'C'}, {'C', 'F'}, {'M', 'C'}, {'I', 'C'}, {'L', 'D'}, {'K', 'D'}, {'E', 'N'}, {'G', 'F'}, {'I', 'F'}, {'I', 'G'}, {'J', 'G'}, {'I', 'K'}, {'I', 'H'}, {'J', 'I'}, {'J', 'K'}, {'P', 'L'}, {'M', 'L'}, {'M', 'N'}, {'M', 'O'}, {'M', 'P'}, {'O', 'N'}, {'O', 'P'}]\n",
            "The vertices are:  ['A', 'B', 'C', 'D', 'E', 'F', 'G', 'I', 'J', 'K', 'L', 'M', 'N', 'O', 'P']\n"
          ]
        }
      ],
      "source": [
        "class graph:\n",
        "  def __init__(self,gdict=None):\n",
        "    if gdict is None:\n",
        "      gdict = {}\n",
        "    self.gdict = gdict\n",
        "  def edges(self):\n",
        "    return self.findedges()\n",
        "# Find the distinct list of edges\n",
        "  def findedges(self):\n",
        "    edgename = []\n",
        "    for vrtx in self.gdict:\n",
        "      for nxtvrtx in self.gdict[vrtx]:\n",
        "        if {nxtvrtx, vrtx} not in edgename:\n",
        "          edgename.append({vrtx, nxtvrtx})\n",
        "    return edgename\n",
        "# Create the dictionary with graph elements\n",
        "graph_elements = {\n",
        "    \"A\" : [\"B\"],\n",
        "    \"B\" : [\"E\",\"F\",\"C\"],\n",
        "    \"C\" : [\"D\",\"E\",\"F\",\"B\",\"M\",\"I\"],\n",
        "    \"D\" : [\"C\",\"L\",\"K\"],\n",
        "    \"E\" : [\"N\",\"B\",\"C\"],\n",
        "    \"F\" : [\"B\",\"C\",\"G\", \"I\"],\n",
        "    \"G\" : [\"F\",\"I\",\"J\"],\n",
        "    \"I\" : [\"C\",\"K\",\"F\",\"G\",\"H\"],\n",
        "    \"J\" : [\"G\",\"I\",\"K\"],\n",
        "    \"K\" : [\"D\",\"I\",\"J\"],\n",
        "    \"L\" : [\"P\",\"M\",\"D\"],\n",
        "    \"M\" : [\"N\",\"O\",\"P\",\"C\",\"L\"],\n",
        "    \"N\" : [\"O\",\"M\",\"E\"],\n",
        "    \"O\" : [\"N\",\"M\",\"P\"],\n",
        "    \"P\" : [\"O\",\"M\",\"L\"]\n",
        "    }\n",
        "g = graph(graph_elements)\n",
        "print(\"The edges are: \", g.edges())\n",
        "\n",
        "class graph:\n",
        "  def __init__(self,gdict=None):\n",
        "    if gdict is None:\n",
        "      gdict = []\n",
        "    self.gdict = gdict\n",
        "# Get the keys of the dictionary\n",
        "  def getVertices(self):\n",
        "    return list(self.gdict.keys())\n",
        "# Create the dictionary with graph elements\n",
        "graph_elements = {\n",
        "    \"A\" : [\"B\"],\n",
        "    \"B\" : [\"E\",\"F\",\"C\"],\n",
        "    \"C\" : [\"D\",\"E\",\"F\",\"B\",\"M\",\"I\"],\n",
        "    \"D\" : [\"C\",\"L\",\"K\"],\n",
        "    \"E\" : [\"N\",\"B\",\"C\"],\n",
        "    \"F\" : [\"B\",\"C\",\"G\", \"I\"],\n",
        "    \"G\" : [\"F\",\"I\",\"J\"],\n",
        "    \"I\" : [\"C\",\"K\",\"F\",\"G\",\"H\"],\n",
        "    \"J\" : [\"G\",\"I\",\"K\"],\n",
        "    \"K\" : [\"D\",\"I\",\"J\"],\n",
        "    \"L\" : [\"P\",\"M\",\"D\"],\n",
        "    \"M\" : [\"N\",\"O\",\"P\",\"C\",\"L\"],\n",
        "    \"N\" : [\"O\",\"M\",\"E\"],\n",
        "    \"O\" : [\"N\",\"M\",\"P\"],\n",
        "    \"P\" : [\"O\",\"M\",\"L\"]\n",
        "    }\n",
        "g = graph(graph_elements)\n",
        "print(\"The vertices are: \", g.getVertices())"
      ]
    }
  ]
}