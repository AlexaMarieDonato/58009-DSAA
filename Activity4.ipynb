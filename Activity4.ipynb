{
  "nbformat": 4,
  "nbformat_minor": 0,
  "metadata": {
    "colab": {
      "provenance": [],
      "authorship_tag": "ABX9TyNfQYw57rKotAIK7CpCoE1D",
      "include_colab_link": true
    },
    "kernelspec": {
      "name": "python3",
      "display_name": "Python 3"
    },
    "language_info": {
      "name": "python"
    }
  },
  "cells": [
    {
      "cell_type": "markdown",
      "metadata": {
        "id": "view-in-github",
        "colab_type": "text"
      },
      "source": [
        "<a href=\"https://colab.research.google.com/github/AlexaMarieDonato/58009-DSAA/blob/main/Activity4.ipynb\" target=\"_parent\"><img src=\"https://colab.research.google.com/assets/colab-badge.svg\" alt=\"Open In Colab\"/></a>"
      ]
    },
    {
      "cell_type": "code",
      "execution_count": 1,
      "metadata": {
        "colab": {
          "base_uri": "https://localhost:8080/"
        },
        "id": "dL5Z4lIJ1sLG",
        "outputId": "37442b96-3622-4ab4-b765-5fe72f0ed310"
      },
      "outputs": [
        {
          "output_type": "stream",
          "name": "stdout",
          "text": [
            "The menu for today is:  ['Burger', 'Fries', 'Coca Cola', 'Chicken', 'Chicken Nuggets']\n",
            "Insert order here: Burger\n",
            "Insert order here: Fries\n",
            "Thank you. We will now prepare your order of Burger and Fries . Your order number is 2\n",
            "Now preparing: Order of ['Burger', 'Fries']\n",
            "Your order of Burger is complete!\n",
            "Now preparing:  ['Fries']\n",
            "Your order of Fries is complete!\n",
            "Now preparing:  []\n",
            "Insert order here: Chicken\n",
            "Insert order here: Chicken Nuggets\n",
            "Thank you. We will now prepare your order of Chicken and Chicken Nuggets . Your order number is 2\n",
            "Now preparing: Order of ['Chicken', 'Chicken Nuggets']\n",
            "Your order of Chicken is complete!\n",
            "Now preparing:  ['Chicken Nuggets']\n",
            "Your order of Chicken Nuggets is complete!\n",
            "Now preparing:  []\n",
            "Insert order here: no\n",
            "Insert order here: order\n",
            "Sorry, we do not have that.\n"
          ]
        }
      ],
      "source": [
        "#application\n",
        "Menu = [\"Burger\", \"Fries\", \"Coca Cola\", \"Chicken\", \"Chicken Nuggets\"]\n",
        "print(\"The menu for today is: \", Menu)\n",
        "queue = []\n",
        "for x in Menu:\n",
        "  new_order1 = input(\"Insert order here: \")\n",
        "  new_order2 = input(\"Insert order here: \")\n",
        "  if new_order1 in Menu:\n",
        "    queue.append(new_order1)\n",
        "    queue.append(new_order2)\n",
        "    print(\"Thank you. We will now prepare your order of\", new_order1, \"and\", new_order2, \".\", \"Your order number is\", len(queue))\n",
        "    print(\"Now preparing: Order of\", queue)\n",
        "    print(\"Your order of\", new_order1, \"is complete!\")\n",
        "    queue.pop(0)\n",
        "    print(\"Now preparing: \", queue)\n",
        "    print(\"Your order of\", new_order2, \"is complete!\")\n",
        "    queue.pop(0)\n",
        "    print(\"Now preparing: \", queue)\n",
        "  else:\n",
        "    print(\"Sorry, we do not have that.\")\n",
        "    break"
      ]
    }
  ]
}