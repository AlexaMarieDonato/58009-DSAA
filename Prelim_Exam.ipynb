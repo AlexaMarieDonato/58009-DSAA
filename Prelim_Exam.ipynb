{
  "nbformat": 4,
  "nbformat_minor": 0,
  "metadata": {
    "colab": {
      "provenance": [],
      "authorship_tag": "ABX9TyPPyiGJRFmsOpr1yn5OtFiB",
      "include_colab_link": true
    },
    "kernelspec": {
      "name": "python3",
      "display_name": "Python 3"
    },
    "language_info": {
      "name": "python"
    }
  },
  "cells": [
    {
      "cell_type": "markdown",
      "metadata": {
        "id": "view-in-github",
        "colab_type": "text"
      },
      "source": [
        "<a href=\"https://colab.research.google.com/github/AlexaMarieDonato/58009-DSAA/blob/main/Prelim_Exam.ipynb\" target=\"_parent\"><img src=\"https://colab.research.google.com/assets/colab-badge.svg\" alt=\"Open In Colab\"/></a>"
      ]
    },
    {
      "cell_type": "code",
      "execution_count": 17,
      "metadata": {
        "colab": {
          "base_uri": "https://localhost:8080/"
        },
        "id": "7STf6aV5zunY",
        "outputId": "8c1fc469-8d07-45b8-d937-b78dbec3fa82"
      },
      "outputs": [
        {
          "output_type": "stream",
          "name": "stdout",
          "text": [
            "Adding all the test scores, we will get a sum of 397\n",
            "When we arrange the test scores in ascending order, we get: [26, 49, 62, 75, 87, 98]\n"
          ]
        }
      ],
      "source": [
        "scores = [26, 49, 98, 87, 62, 75]\n",
        "add = scores[0] + scores[1] + scores[2] + scores[3] + scores[4] + scores[5]\n",
        "print(\"Adding all the test scores, we will get a sum of\", add)\n",
        "scores.sort(reverse = False)\n",
        "print(\"When we arrange the test scores in ascending order, we get:\", scores)"
      ]
    }
  ]
}