{
  "nbformat": 4,
  "nbformat_minor": 0,
  "metadata": {
    "colab": {
      "provenance": [],
      "authorship_tag": "ABX9TyMJkzs2AqjlnGQKIVHia12Q",
      "include_colab_link": true
    },
    "kernelspec": {
      "name": "python3",
      "display_name": "Python 3"
    },
    "language_info": {
      "name": "python"
    }
  },
  "cells": [
    {
      "cell_type": "markdown",
      "metadata": {
        "id": "view-in-github",
        "colab_type": "text"
      },
      "source": [
        "<a href=\"https://colab.research.google.com/github/AlexaMarieDonato/58009-DSAA/blob/main/Long_Quiz_2.ipynb\" target=\"_parent\"><img src=\"https://colab.research.google.com/assets/colab-badge.svg\" alt=\"Open In Colab\"/></a>"
      ]
    },
    {
      "cell_type": "code",
      "execution_count": 6,
      "metadata": {
        "colab": {
          "base_uri": "https://localhost:8080/"
        },
        "id": "I0nSEhk_q045",
        "outputId": "fa25a455-8d40-47b5-bd64-9c4807302851"
      },
      "outputs": [
        {
          "output_type": "stream",
          "name": "stdout",
          "text": [
            "[{'I', 'E'}, {'J', 'E'}, {'K', 'E'}, {'M', 'E'}, {'F', 'I'}, {'F', 'J'}, {'F', 'K'}, {'F', 'P'}, {'H', 'I'}, {'H', 'J'}, {'H', 'K'}]\n",
            "['E', 'F', 'H', 'I', 'J', 'K', 'M', 'P']\n"
          ]
        }
      ],
      "source": [
        "class graph:\n",
        "  def __init__(self,gdict=None):\n",
        "    if gdict is None:\n",
        "      gdict = {}\n",
        "    self.gdict = gdict\n",
        "  def edges(self):\n",
        "    return self.findedges()\n",
        "# Find the distinct list of edges\n",
        "  def findedges(self):\n",
        "    edgename = []\n",
        "    for vrtx in self.gdict:\n",
        "      for nxtvrtx in self.gdict[vrtx]:\n",
        "        if {nxtvrtx, vrtx} not in edgename:\n",
        "          edgename.append({vrtx, nxtvrtx})\n",
        "    return edgename\n",
        "# Create the dictionary with graph elements\n",
        "graph_elements = {\n",
        "    \"E\" : [\"I\",\"J\",\"K\",\"M\"],\n",
        "    \"F\" : [\"I\", \"J\",\"K\",\"P\"],\n",
        "    \"H\" : [\"I\", \"J\",\"K\"],\n",
        "    \"I\" : [\"E\",\"F\",\"H\"],\n",
        "    \"J\" : [\"E\",\"F\",\"H\"],\n",
        "    \"K\" : [\"E\",\"F\",\"H\"],\n",
        "    \"M\" : [\"E\"],\n",
        "    \"P\" : [\"F\"]\n",
        "    }\n",
        "g = graph(graph_elements)\n",
        "print(g.edges())\n",
        "\n",
        "class graph:\n",
        "  def __init__(self,gdict=None):\n",
        "    if gdict is None:\n",
        "      gdict = []\n",
        "    self.gdict = gdict\n",
        "# Get the keys of the dictionary\n",
        "  def getVertices(self):\n",
        "    return list(self.gdict.keys())\n",
        "# Create the dictionary with graph elements\n",
        "graph_elements = {\n",
        "    \"E\" : [\"I = 33\",\"J = 58\",\"K = 41\",\"M = 69\"],\n",
        "    \"F\" : [\"I = 43\", \"J = 32\",\"K = 51\",\"P = 70\"],\n",
        "    \"H\" : [\"I = 16\", \"J = 22\",\"K = 100\"],\n",
        "    \"I\" : [\"E =33\",\"F = 43\",\"H = 16\"],\n",
        "    \"J\" : [\"E =  58\",\"F =  32\",\"H = 22\"],\n",
        "    \"K\" : [\"E = 41\",\"F = 51\",\"H = 100\"],\n",
        "    \"M\" : [\"E =  69\"],\n",
        "    \"P\" : [\"F =  70\"]\n",
        "    }\n",
        "g = graph(graph_elements)\n",
        "print(g.getVertices())"
      ]
    }
  ]
}