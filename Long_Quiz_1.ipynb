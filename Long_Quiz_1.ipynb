{
  "nbformat": 4,
  "nbformat_minor": 0,
  "metadata": {
    "colab": {
      "provenance": [],
      "authorship_tag": "ABX9TyOMfkzqeXVEexG3Z9wpQr+2",
      "include_colab_link": true
    },
    "kernelspec": {
      "name": "python3",
      "display_name": "Python 3"
    },
    "language_info": {
      "name": "python"
    }
  },
  "cells": [
    {
      "cell_type": "markdown",
      "metadata": {
        "id": "view-in-github",
        "colab_type": "text"
      },
      "source": [
        "<a href=\"https://colab.research.google.com/github/AlexaMarieDonato/58009-DSAA/blob/main/Long_Quiz_1.ipynb\" target=\"_parent\"><img src=\"https://colab.research.google.com/assets/colab-badge.svg\" alt=\"Open In Colab\"/></a>"
      ]
    },
    {
      "cell_type": "markdown",
      "source": [
        "1. Create a python or C++ program that appends each character of your full name and displays each character in reverse order (50 points)"
      ],
      "metadata": {
        "id": "wA3wV9ek1WsA"
      }
    },
    {
      "cell_type": "code",
      "execution_count": 13,
      "metadata": {
        "colab": {
          "base_uri": "https://localhost:8080/"
        },
        "id": "5jlvd6s8zWWu",
        "outputId": "406ccae1-2bb3-4882-eabc-ff6140a7c8b9"
      },
      "outputs": [
        {
          "output_type": "stream",
          "name": "stdout",
          "text": [
            "['a']\n",
            "['a', 'l']\n",
            "['a', 'l', 'e']\n",
            "['a', 'l', 'e', 'x']\n",
            "['a', 'l', 'e', 'x', 'a']\n",
            "['a', 'l', 'e', 'x', 'a', 'm']\n",
            "['a', 'l', 'e', 'x', 'a', 'm', 'a']\n",
            "['a', 'l', 'e', 'x', 'a', 'm', 'a', 'r']\n",
            "['a', 'l', 'e', 'x', 'a', 'm', 'a', 'r', 'i']\n",
            "['a', 'l', 'e', 'x', 'a', 'm', 'a', 'r', 'i', 'e']\n",
            "['a', 'l', 'e', 'x', 'a', 'm', 'a', 'r', 'i', 'e', 'd']\n",
            "['a', 'l', 'e', 'x', 'a', 'm', 'a', 'r', 'i', 'e', 'd', 'o']\n",
            "['a', 'l', 'e', 'x', 'a', 'm', 'a', 'r', 'i', 'e', 'd', 'o', 'n']\n",
            "['a', 'l', 'e', 'x', 'a', 'm', 'a', 'r', 'i', 'e', 'd', 'o', 'n', 'a']\n",
            "['a', 'l', 'e', 'x', 'a', 'm', 'a', 'r', 'i', 'e', 'd', 'o', 'n', 'a', 't']\n",
            "['a', 'l', 'e', 'x', 'a', 'm', 'a', 'r', 'i', 'e', 'd', 'o', 'n', 'a', 't', 'o']\n",
            "['o', 't', 'a', 'n', 'o', 'd', 'e', 'i', 'r', 'a', 'm', 'a', 'x', 'e', 'l', 'a']\n",
            "['t', 'a', 'n', 'o', 'd', 'e', 'i', 'r', 'a', 'm', 'a', 'x', 'e', 'l', 'a']\n",
            "['a', 'n', 'o', 'd', 'e', 'i', 'r', 'a', 'm', 'a', 'x', 'e', 'l', 'a']\n",
            "['n', 'o', 'd', 'e', 'i', 'r', 'a', 'm', 'a', 'x', 'e', 'l', 'a']\n",
            "['o', 'd', 'e', 'i', 'r', 'a', 'm', 'a', 'x', 'e', 'l', 'a']\n",
            "['d', 'e', 'i', 'r', 'a', 'm', 'a', 'x', 'e', 'l', 'a']\n",
            "['e', 'i', 'r', 'a', 'm', 'a', 'x', 'e', 'l', 'a']\n",
            "['i', 'r', 'a', 'm', 'a', 'x', 'e', 'l', 'a']\n",
            "['r', 'a', 'm', 'a', 'x', 'e', 'l', 'a']\n",
            "['a', 'm', 'a', 'x', 'e', 'l', 'a']\n",
            "['m', 'a', 'x', 'e', 'l', 'a']\n",
            "['a', 'x', 'e', 'l', 'a']\n",
            "['x', 'e', 'l', 'a']\n",
            "['e', 'l', 'a']\n",
            "['l', 'a']\n",
            "['a']\n"
          ]
        }
      ],
      "source": [
        "name = [\"a\"]\n",
        "print(name)\n",
        "name.append(\"l\")\n",
        "print(name)\n",
        "name.append(\"e\")\n",
        "print(name)\n",
        "name.append(\"x\")\n",
        "print(name)\n",
        "name.append(\"a\")\n",
        "print(name)\n",
        "name.append(\"m\")\n",
        "print(name)\n",
        "name.append(\"a\")\n",
        "print(name)\n",
        "name.append(\"r\")\n",
        "print(name)\n",
        "name.append(\"i\")\n",
        "print(name)\n",
        "name.append(\"e\")\n",
        "print(name)\n",
        "name.append(\"d\")\n",
        "print(name)\n",
        "name.append(\"o\")\n",
        "print(name)\n",
        "name.append(\"n\")\n",
        "print(name)\n",
        "name.append(\"a\")\n",
        "print(name)\n",
        "name.append(\"t\")\n",
        "print(name)\n",
        "name.append(\"o\")\n",
        "print(name)\n",
        "name.reverse()\n",
        "print(name)\n",
        "name.remove(\"o\")\n",
        "print(name)\n",
        "name.remove(\"t\")\n",
        "print(name)\n",
        "name.remove(\"a\")\n",
        "print(name)\n",
        "name.remove(\"n\")\n",
        "print(name)\n",
        "name.remove(\"o\")\n",
        "print(name)\n",
        "name.remove(\"d\")\n",
        "print(name)\n",
        "name.remove(\"e\")\n",
        "print(name)\n",
        "name.remove(\"i\")\n",
        "print(name)\n",
        "name.remove(\"r\")\n",
        "print(name)\n",
        "name.remove(\"a\")\n",
        "print(name)\n",
        "name.remove(\"m\")\n",
        "print(name)\n",
        "name.remove(\"a\")\n",
        "print(name)\n",
        "name.remove(\"x\")\n",
        "print(name)\n",
        "name.remove(\"e\")\n",
        "print(name)\n",
        "name.remove(\"l\")\n",
        "print(name)"
      ]
    },
    {
      "cell_type": "markdown",
      "source": [
        "2. Using the set of positive whole numbers from 1 to 10, create a python or C++ program that displays if it is prime or composite. (50 points)"
      ],
      "metadata": {
        "id": "nWyMvc0S1dim"
      }
    },
    {
      "cell_type": "code",
      "source": [
        "numbers = [1, 2, 3, 4, 5, 6, 7, 8, 9, 10]\n",
        "i = 0\n",
        "for k in numbers:\n",
        "  if k == 1:\n",
        "    print(k, \"is neither a composite or prime number\")\n",
        "  elif (k > 1):\n",
        "    for j in range (2, int(k/2 + 1)):\n",
        "      if (k % j == 0):\n",
        "        print(k, \"it is a composite number\")\n",
        "        break\n",
        "    else:\n",
        "      print(k, \"It is a prime number\")\n",
        "  else:\n",
        "    print(k, \"it is a composite number\")\n",
        "    k = i+1\n",
        "\n",
        "#prime = 2, 3, 5, 7\n",
        "#composite = 4, 6, 8, 9, 10"
      ],
      "metadata": {
        "colab": {
          "base_uri": "https://localhost:8080/"
        },
        "id": "8sHLqW7m1hXP",
        "outputId": "dca01142-03f6-4c29-f14c-e22ce5c321c4"
      },
      "execution_count": 168,
      "outputs": [
        {
          "output_type": "stream",
          "name": "stdout",
          "text": [
            "1 is neither a composite or prime number\n",
            "2 It is a prime number\n",
            "3 It is a prime number\n",
            "4 it is a composite number\n",
            "5 It is a prime number\n",
            "6 it is a composite number\n",
            "7 It is a prime number\n",
            "8 it is a composite number\n",
            "9 it is a composite number\n",
            "10 it is a composite number\n"
          ]
        }
      ]
    }
  ]
}