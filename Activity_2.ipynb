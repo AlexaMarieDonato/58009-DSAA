{
  "nbformat": 4,
  "nbformat_minor": 0,
  "metadata": {
    "colab": {
      "provenance": [],
      "authorship_tag": "ABX9TyNGirfHKmIt8DJd+7HGQP0m",
      "include_colab_link": true
    },
    "kernelspec": {
      "name": "python3",
      "display_name": "Python 3"
    },
    "language_info": {
      "name": "python"
    }
  },
  "cells": [
    {
      "cell_type": "markdown",
      "metadata": {
        "id": "view-in-github",
        "colab_type": "text"
      },
      "source": [
        "<a href=\"https://colab.research.google.com/github/AlexaMarieDonato/58009-DSAA/blob/main/Activity_2.ipynb\" target=\"_parent\"><img src=\"https://colab.research.google.com/assets/colab-badge.svg\" alt=\"Open In Colab\"/></a>"
      ]
    },
    {
      "cell_type": "code",
      "execution_count": 30,
      "metadata": {
        "colab": {
          "base_uri": "https://localhost:8080/"
        },
        "id": "IRyh4W_1VN1T",
        "outputId": "7ccc4017-6792-4549-cc46-e336a4ca108a"
      },
      "outputs": [
        {
          "output_type": "stream",
          "name": "stdout",
          "text": [
            "The prime numbers less than 20 are:\n",
            "2\n",
            "3\n",
            "5\n",
            "7\n",
            "11\n",
            "13\n",
            "17\n",
            "19\n",
            "The head of the linked list is 2\n",
            "The tail of the linked list is 19\n"
          ]
        }
      ],
      "source": [
        "print(\"The prime numbers less than 20 are:\")\n",
        "class Node:\n",
        "  def __init__(self, data):\n",
        "    self.data = data\n",
        "    self.next = None\n",
        "    self.end = None\n",
        "\n",
        "class LinkedList:\n",
        "  def __init__(self):\n",
        "    self.head = None\n",
        "    self.tail = None\n",
        "  def start(self):\n",
        "    start = self.head\n",
        "    end = self.tail\n",
        "    while(start):\n",
        "      print(start.data)\n",
        "      start = start.next\n",
        "\n",
        "if __name__=='__main__':\n",
        "  llist = LinkedList()\n",
        "  llist.head = Node(2)\n",
        "  second = Node(3)\n",
        "  third = Node(5)\n",
        "  fourth = Node(7)\n",
        "  fifth = Node(11)\n",
        "  sixth = Node(13)\n",
        "  seventh = Node(17)\n",
        "  llist.tail = Node(19)\n",
        "  llist.head.next = second\n",
        "  second.next = third\n",
        "  third.next = fourth\n",
        "  fourth.next = fifth\n",
        "  fifth.next = sixth\n",
        "  sixth.next = seventh\n",
        "  seventh.next = llist.tail\n",
        "\n",
        "llist.start()\n",
        "print(\"The head of the linked list is\", llist.head.data)\n",
        "print(\"The tail of the linked list is\", llist.tail.data)"
      ]
    }
  ]
}