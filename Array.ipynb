{
  "nbformat": 4,
  "nbformat_minor": 0,
  "metadata": {
    "colab": {
      "provenance": [],
      "authorship_tag": "ABX9TyN/h5hZSZWDZCNpLZgKV0sA",
      "include_colab_link": true
    },
    "kernelspec": {
      "name": "python3",
      "display_name": "Python 3"
    },
    "language_info": {
      "name": "python"
    }
  },
  "cells": [
    {
      "cell_type": "markdown",
      "metadata": {
        "id": "view-in-github",
        "colab_type": "text"
      },
      "source": [
        "<a href=\"https://colab.research.google.com/github/AlexaMarieDonato/58009-DSAA/blob/main/Array.ipynb\" target=\"_parent\"><img src=\"https://colab.research.google.com/assets/colab-badge.svg\" alt=\"Open In Colab\"/></a>"
      ]
    },
    {
      "cell_type": "code",
      "execution_count": 12,
      "metadata": {
        "colab": {
          "base_uri": "https://localhost:8080/"
        },
        "id": "xlUlcswcVhdh",
        "outputId": "5a497c17-949e-4adc-c6d0-0cbffc121d8d"
      },
      "outputs": [
        {
          "output_type": "stream",
          "name": "stdout",
          "text": [
            "cat\n"
          ]
        }
      ],
      "source": [
        "#Accessing the Elements in the Array\n",
        "animals = [\"cat\", \"dog\", \"fish\"]\n",
        "x = animals[0]\n",
        "print(x)"
      ]
    },
    {
      "cell_type": "code",
      "source": [
        "#Modifying the Elements in the Array\n",
        "animals = [\"cat\", \"dog\", \"fish\"]\n",
        "animals[0] = \"monkey\"\n",
        "print(animals)"
      ],
      "metadata": {
        "colab": {
          "base_uri": "https://localhost:8080/"
        },
        "id": "HfQ7OUfnV21i",
        "outputId": "25aeaa10-2198-4a1d-cd6e-02b5b41e688a"
      },
      "execution_count": 16,
      "outputs": [
        {
          "output_type": "stream",
          "name": "stdout",
          "text": [
            "['monkey', 'dog', 'fish']\n"
          ]
        }
      ]
    },
    {
      "cell_type": "code",
      "source": [
        "#Length of an Array\n",
        "animals = [\"cat\", \"dog\", \"fish\"]\n",
        "x = len(animals)\n",
        "print (x)"
      ],
      "metadata": {
        "colab": {
          "base_uri": "https://localhost:8080/"
        },
        "id": "uPdMHS37WD_s",
        "outputId": "cbc2cf9e-2efc-46c2-a250-8bc5b61abcc9"
      },
      "execution_count": 6,
      "outputs": [
        {
          "output_type": "stream",
          "name": "stdout",
          "text": [
            "3\n"
          ]
        }
      ]
    },
    {
      "cell_type": "code",
      "source": [
        "#Looping Array elements\n",
        "animals = [\"cat\", \"dog\", \"fish\"]\n",
        "for x in animals:\n",
        "  print(x)"
      ],
      "metadata": {
        "colab": {
          "base_uri": "https://localhost:8080/"
        },
        "id": "jlApIg0AWQD3",
        "outputId": "bf93aade-b89a-4810-82e9-3f233b19e3ac"
      },
      "execution_count": 7,
      "outputs": [
        {
          "output_type": "stream",
          "name": "stdout",
          "text": [
            "cat\n",
            "dog\n",
            "fish\n"
          ]
        }
      ]
    },
    {
      "cell_type": "code",
      "source": [
        "#Adding elements in an Array\n",
        "animals = [\"cat\", \"dog\", \"fish\"]\n",
        "animals.append(\"monkey\")\n",
        "print(animals)\n",
        "\n",
        "animals = [\"cat\", \"dog\", \"fish\"]\n",
        "animals.insert(2, \"monkey\")\n",
        "print(animals)"
      ],
      "metadata": {
        "colab": {
          "base_uri": "https://localhost:8080/"
        },
        "id": "hSLGVTsDW_iV",
        "outputId": "04d9e598-fe85-4340-fcba-65b814f0f12e"
      },
      "execution_count": 38,
      "outputs": [
        {
          "output_type": "stream",
          "name": "stdout",
          "text": [
            "['cat', 'dog', 'fish', 'monkey']\n",
            "['cat', 'dog', 'monkey', 'fish']\n"
          ]
        }
      ]
    },
    {
      "cell_type": "code",
      "source": [
        "#Removing elements in an Array\n",
        "animals = [\"cat\", \"dog\", \"fish\"]\n",
        "animals.pop(1)\n",
        "print(animals)\n",
        "\n",
        "animals = [\"cat\", \"dog\", \"fish\"]\n",
        "animals.remove(\"cat\")\n",
        "print(animals)"
      ],
      "metadata": {
        "colab": {
          "base_uri": "https://localhost:8080/"
        },
        "id": "H858orN9XNuw",
        "outputId": "a49c7370-4dfc-450f-9041-347a8e7f064f"
      },
      "execution_count": 39,
      "outputs": [
        {
          "output_type": "stream",
          "name": "stdout",
          "text": [
            "['cat', 'fish']\n",
            "['dog', 'fish']\n"
          ]
        }
      ]
    },
    {
      "cell_type": "code",
      "source": [
        "#Using sort() function reversed\n",
        "animals = [\"cat\", \"dog\", \"fish\"]\n",
        "animals.sort(reverse = True)\n",
        "print(animals)\n",
        "\n",
        "#Using sort() function\n",
        "animals = [\"cat\", \"dog\", \"fish\"]\n",
        "animals.sort(reverse = False)\n",
        "print(animals)\n",
        "\n",
        "#Using sort() function with key element\n",
        "animals = [\"cat\", \"snake\", \"fish\"]\n",
        "animals.sort(key= len, reverse = False)\n",
        "print(animals)\n",
        "\n",
        "#Using reverse() function\n",
        "animals = [\"cat\", \"dog\", \"fish\"]\n",
        "animals.reverse()\n",
        "print(animals)"
      ],
      "metadata": {
        "colab": {
          "base_uri": "https://localhost:8080/"
        },
        "id": "u0ws84Kza0P5",
        "outputId": "4efe1481-9d44-4bd5-bf2a-ca7a8b1101f8"
      },
      "execution_count": 40,
      "outputs": [
        {
          "output_type": "stream",
          "name": "stdout",
          "text": [
            "['fish', 'dog', 'cat']\n",
            "['cat', 'dog', 'fish']\n",
            "['cat', 'fish', 'snake']\n",
            "['fish', 'dog', 'cat']\n"
          ]
        }
      ]
    }
  ]
}