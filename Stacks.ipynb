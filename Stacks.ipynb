{
  "nbformat": 4,
  "nbformat_minor": 0,
  "metadata": {
    "colab": {
      "provenance": [],
      "authorship_tag": "ABX9TyPd98rxDl9iVUMXC3p1FNjT",
      "include_colab_link": true
    },
    "kernelspec": {
      "name": "python3",
      "display_name": "Python 3"
    },
    "language_info": {
      "name": "python"
    }
  },
  "cells": [
    {
      "cell_type": "markdown",
      "metadata": {
        "id": "view-in-github",
        "colab_type": "text"
      },
      "source": [
        "<a href=\"https://colab.research.google.com/github/AlexaMarieDonato/58009-DSAA/blob/main/Stacks.ipynb\" target=\"_parent\"><img src=\"https://colab.research.google.com/assets/colab-badge.svg\" alt=\"Open In Colab\"/></a>"
      ]
    },
    {
      "cell_type": "markdown",
      "source": [
        "Stacks"
      ],
      "metadata": {
        "id": "mnpsiuYu28RX"
      }
    },
    {
      "cell_type": "code",
      "execution_count": null,
      "metadata": {
        "colab": {
          "base_uri": "https://localhost:8080/"
        },
        "id": "UJo9QqPlxYNL",
        "outputId": "90c6cbaa-5427-402e-b5b5-fccfe83f741d"
      },
      "outputs": [
        {
          "output_type": "stream",
          "name": "stdout",
          "text": [
            "['Mon', 'Tue', 'Wed', 'Thu', 'Fri', 'Sat', 'Sun']\n",
            "Sun\n",
            "Sat\n",
            "Fri\n",
            "Thu\n",
            "Wed\n",
            "Tue\n",
            "Mon\n",
            "No element in the stack\n",
            "[]\n"
          ]
        }
      ],
      "source": [
        "class Stack:\n",
        "  def __init__(self):\n",
        "    self.stack = []\n",
        "  def add(self, dataval):\n",
        "#use list append method to add element\n",
        "    if dataval not in self.stack:\n",
        "      self.stack.append(dataval)\n",
        "      return True\n",
        "    else:\n",
        "      return False\n",
        "#use list pop method to remove element\n",
        "  def remove(self):\n",
        "    if len(self.stack) <= 0:\n",
        "      return (\"No element in the stack\")\n",
        "    else:\n",
        "      return self.stack.pop()\n",
        "\n",
        "AStack = Stack()\n",
        "AStack.add(\"Mon\")\n",
        "AStack.add(\"Tue\")\n",
        "AStack.add(\"Wed\")\n",
        "AStack.add(\"Thu\")\n",
        "AStack.add(\"Fri\")\n",
        "AStack.add(\"Sat\")\n",
        "AStack.add(\"Sun\")\n",
        "print(AStack.stack)\n",
        "print(AStack.remove())\n",
        "print(AStack.remove())\n",
        "print(AStack.remove())\n",
        "print(AStack.remove())\n",
        "print(AStack.remove())\n",
        "print(AStack.remove())\n",
        "print(AStack.remove())\n",
        "print(AStack.remove())\n",
        "print(AStack.stack)"
      ]
    },
    {
      "cell_type": "markdown",
      "source": [
        "Activity 3"
      ],
      "metadata": {
        "id": "wEm-Nmyc4GZc"
      }
    },
    {
      "cell_type": "code",
      "source": [
        "#Stack implementation in Python\n",
        "#Creating a stack\n",
        "def create_stack():\n",
        "  stack = []\n",
        "  return stack\n",
        "\n",
        "#Creating an empty stack\n",
        "def is_empty(stack):\n",
        "  return len(stack) == 0\n",
        "\n",
        "#Adding items into the stack\n",
        "def push(stack, item):\n",
        "  stack.append(item)\n",
        "  print(\"Pushed element: \" + item)\n",
        "\n",
        "#Removing an element from the stack\n",
        "def pop(stack):\n",
        "  if(is_empty(stack)):\n",
        "    return (\"The stack is empty\")\n",
        "  return stack.pop()\n",
        "\n",
        "stack = create_stack()\n",
        "push(stack, str(1))\n",
        "push(stack, str(2))\n",
        "push(stack, str(3))\n",
        "push(stack, str(4))\n",
        "push(stack, str(5))\n",
        "print(len(stack))\n",
        "print(\"The elements in the stack are:\"+ str(stack))\n",
        "stack.pop(), stack.pop(), stack.pop()\n",
        "print(stack)\n",
        "print(len(stack))"
      ],
      "metadata": {
        "colab": {
          "base_uri": "https://localhost:8080/"
        },
        "id": "ifY5LFPZ4Hi0",
        "outputId": "444befdc-3b4f-4d3b-d566-dd0a7a561a01"
      },
      "execution_count": 27,
      "outputs": [
        {
          "output_type": "stream",
          "name": "stdout",
          "text": [
            "Pushed element: 1\n",
            "Pushed element: 2\n",
            "Pushed element: 3\n",
            "Pushed element: 4\n",
            "Pushed element: 5\n",
            "5\n",
            "The elements in the stack are:['1', '2', '3', '4', '5']\n",
            "['1', '2']\n",
            "2\n"
          ]
        }
      ]
    }
  ]
}